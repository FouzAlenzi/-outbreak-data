{
 "cells": [
  {
   "cell_type": "code",
   "execution_count": null,
   "id": "99760c36-9ed8-4e73-91a4-90bb1e60f0e6",
   "metadata": {},
   "outputs": [],
   "source": [
    "def get_user_input():\n",
    "    text = input(\"Enter a sentence or paragraph: \")\n",
    "    return text\n",
    "\n",
    "def analyze_sentiment(text, positive_words, negative_words):\n",
    "    text = text.lower()\n",
    "    words = text.split()\n",
    "    positive_count = 0\n",
    "    negative_count = 0\n",
    "    for word in words:\n",
    "        if word in positive_words:\n",
    "            positive_count += 1\n",
    "        elif word in negative_words:\n",
    "            negative_count += 1\n",
    "    return positive_count, negative_count\n",
    "\n",
    "def determine_sentiment(positive_count, negative_count):\n",
    "    if positive_count > negative_count:\n",
    "        return \"Positive\"\n",
    "    elif negative_count > positive_count:\n",
    "        return \"Negative\"\n",
    "    else:\n",
    "        return \"Neutral\"\n",
    "\n",
    "def display_results(positive_count, negative_count, sentiment):\n",
    "    print(\"Number of positive words:\", positive_count)\n",
    "    print(\"Number of negative words:\", negative_count)\n",
    "    print(\"Overall sentiment is:\", sentiment)\n",
    "\n",
    "positive_words = [\"happy\", \"good\", \"great\", \"awesome\"]\n",
    "negative_words = [\"sad\", \"bad\", \"terrible\", \"awful\"]\n",
    "\n",
    "text = get_user_input()\n",
    "positive_count, negative_count = analyze_sentiment(text, positive_words, negative_words)\n",
    "sentiment = determine_sentiment(positive_count, negative_count)\n",
    "display_results(positive_count, negative_count, sentiment)"
   ]
  },
  {
   "cell_type": "code",
   "execution_count": null,
   "id": "14e4921a-74b9-429c-8c28-83d8a9e81f05",
   "metadata": {},
   "outputs": [],
   "source": []
  },
  {
   "cell_type": "code",
   "execution_count": null,
   "id": "2eb46037-bff3-4424-bc8d-a302ff3f2f58",
   "metadata": {},
   "outputs": [],
   "source": []
  },
  {
   "cell_type": "code",
   "execution_count": null,
   "id": "e6878b44-72f3-4dd2-9bae-923276352d48",
   "metadata": {},
   "outputs": [],
   "source": []
  },
  {
   "cell_type": "code",
   "execution_count": null,
   "id": "5ddd4d27-36ac-4e99-b0a7-70d7998ad275",
   "metadata": {},
   "outputs": [],
   "source": []
  }
 ],
 "metadata": {
  "kernelspec": {
   "display_name": "Python 3 (ipykernel)",
   "language": "python",
   "name": "python3"
  },
  "language_info": {
   "codemirror_mode": {
    "name": "ipython",
    "version": 3
   },
   "file_extension": ".py",
   "mimetype": "text/x-python",
   "name": "python",
   "nbconvert_exporter": "python",
   "pygments_lexer": "ipython3",
   "version": "3.13.5"
  }
 },
 "nbformat": 4,
 "nbformat_minor": 5
}
