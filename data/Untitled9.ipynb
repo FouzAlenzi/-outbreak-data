{
 "cells": [
  {
   "cell_type": "code",
   "execution_count": 127,
   "id": "789b7417-cb05-4c20-b832-cb4ebcbbe364",
   "metadata": {},
   "outputs": [],
   "source": [
    "import pandas as pd"
   ]
  },
  {
   "cell_type": "code",
   "execution_count": 128,
   "id": "993e6000-0da5-49aa-be8b-c9e498f4510b",
   "metadata": {
    "scrolled": true
   },
   "outputs": [
    {
     "name": "stderr",
     "output_type": "stream",
     "text": [
      "C:\\Users\\user.DESKTOP-OMQ89VA\\AppData\\Local\\Temp\\ipykernel_1956\\2764953100.py:1: DtypeWarning: Columns (18) have mixed types. Specify dtype option on import or set low_memory=False.\n",
      "  df = pd.read_csv(\"NORS_20250803 (3).CSV\")\n"
     ]
    }
   ],
   "source": [
    "df = pd.read_csv(\"NORS_20250803 (3).CSV\")"
   ]
  },
  {
   "cell_type": "code",
   "execution_count": 129,
   "id": "971af3ca-b751-45f0-b0c6-4e6e732e4f13",
   "metadata": {
    "scrolled": true
   },
   "outputs": [
    {
     "data": {
      "text/html": [
       "<div>\n",
       "<style scoped>\n",
       "    .dataframe tbody tr th:only-of-type {\n",
       "        vertical-align: middle;\n",
       "    }\n",
       "\n",
       "    .dataframe tbody tr th {\n",
       "        vertical-align: top;\n",
       "    }\n",
       "\n",
       "    .dataframe thead th {\n",
       "        text-align: right;\n",
       "    }\n",
       "</style>\n",
       "<table border=\"1\" class=\"dataframe\">\n",
       "  <thead>\n",
       "    <tr style=\"text-align: right;\">\n",
       "      <th></th>\n",
       "      <th>Year</th>\n",
       "      <th>Month</th>\n",
       "      <th>State</th>\n",
       "      <th>Primary Mode</th>\n",
       "      <th>Etiology</th>\n",
       "      <th>Serotype or Genotype</th>\n",
       "      <th>Etiology Status</th>\n",
       "      <th>Setting</th>\n",
       "      <th>Illnesses</th>\n",
       "      <th>Hospitalizations</th>\n",
       "      <th>Info On Hospitalizations</th>\n",
       "      <th>Deaths</th>\n",
       "      <th>Info On Deaths</th>\n",
       "      <th>Food Vehicle</th>\n",
       "      <th>Food Contaminated Ingredient</th>\n",
       "      <th>IFSAC Category</th>\n",
       "      <th>Water Exposure</th>\n",
       "      <th>Water Type</th>\n",
       "      <th>Animal Type</th>\n",
       "    </tr>\n",
       "  </thead>\n",
       "  <tbody>\n",
       "    <tr>\n",
       "      <th>0</th>\n",
       "      <td>2016</td>\n",
       "      <td>1</td>\n",
       "      <td>New Jersey</td>\n",
       "      <td>Food</td>\n",
       "      <td>NaN</td>\n",
       "      <td>NaN</td>\n",
       "      <td>NaN</td>\n",
       "      <td>NaN</td>\n",
       "      <td>47</td>\n",
       "      <td>0.0</td>\n",
       "      <td>47.0</td>\n",
       "      <td>0.0</td>\n",
       "      <td>47.0</td>\n",
       "      <td>NaN</td>\n",
       "      <td>NaN</td>\n",
       "      <td>NaN</td>\n",
       "      <td>NaN</td>\n",
       "      <td>NaN</td>\n",
       "      <td>NaN</td>\n",
       "    </tr>\n",
       "    <tr>\n",
       "      <th>1</th>\n",
       "      <td>2018</td>\n",
       "      <td>9</td>\n",
       "      <td>Massachusetts</td>\n",
       "      <td>Person-to-person</td>\n",
       "      <td>Norovirus</td>\n",
       "      <td>NaN</td>\n",
       "      <td>Suspected</td>\n",
       "      <td>Other</td>\n",
       "      <td>41</td>\n",
       "      <td>0.0</td>\n",
       "      <td>41.0</td>\n",
       "      <td>0.0</td>\n",
       "      <td>41.0</td>\n",
       "      <td>NaN</td>\n",
       "      <td>NaN</td>\n",
       "      <td>NaN</td>\n",
       "      <td>NaN</td>\n",
       "      <td>NaN</td>\n",
       "      <td>NaN</td>\n",
       "    </tr>\n",
       "    <tr>\n",
       "      <th>2</th>\n",
       "      <td>2023</td>\n",
       "      <td>1</td>\n",
       "      <td>Minnesota</td>\n",
       "      <td>Food</td>\n",
       "      <td>Norovirus Genogroup IX</td>\n",
       "      <td>GII.P15 GIX.1</td>\n",
       "      <td>Confirmed</td>\n",
       "      <td>Restaurant: Sit-down dining</td>\n",
       "      <td>23</td>\n",
       "      <td>0.0</td>\n",
       "      <td>23.0</td>\n",
       "      <td>0.0</td>\n",
       "      <td>23.0</td>\n",
       "      <td>NaN</td>\n",
       "      <td>NaN</td>\n",
       "      <td>NaN</td>\n",
       "      <td>NaN</td>\n",
       "      <td>NaN</td>\n",
       "      <td>NaN</td>\n",
       "    </tr>\n",
       "    <tr>\n",
       "      <th>3</th>\n",
       "      <td>2023</td>\n",
       "      <td>1</td>\n",
       "      <td>Massachusetts</td>\n",
       "      <td>Indeterminate/unknown</td>\n",
       "      <td>Norovirus</td>\n",
       "      <td>NaN</td>\n",
       "      <td>Suspected</td>\n",
       "      <td>Long-term care/nursing home/assisted living fa...</td>\n",
       "      <td>7</td>\n",
       "      <td>0.0</td>\n",
       "      <td>0.0</td>\n",
       "      <td>0.0</td>\n",
       "      <td>0.0</td>\n",
       "      <td>NaN</td>\n",
       "      <td>NaN</td>\n",
       "      <td>NaN</td>\n",
       "      <td>NaN</td>\n",
       "      <td>NaN</td>\n",
       "      <td>NaN</td>\n",
       "    </tr>\n",
       "    <tr>\n",
       "      <th>4</th>\n",
       "      <td>2023</td>\n",
       "      <td>1</td>\n",
       "      <td>North Carolina</td>\n",
       "      <td>Person-to-person</td>\n",
       "      <td>Norovirus unknown</td>\n",
       "      <td>NaN</td>\n",
       "      <td>Confirmed</td>\n",
       "      <td>Long-term care/nursing home/assisted living fa...</td>\n",
       "      <td>23</td>\n",
       "      <td>1.0</td>\n",
       "      <td>23.0</td>\n",
       "      <td>0.0</td>\n",
       "      <td>23.0</td>\n",
       "      <td>NaN</td>\n",
       "      <td>NaN</td>\n",
       "      <td>NaN</td>\n",
       "      <td>NaN</td>\n",
       "      <td>NaN</td>\n",
       "      <td>NaN</td>\n",
       "    </tr>\n",
       "  </tbody>\n",
       "</table>\n",
       "</div>"
      ],
      "text/plain": [
       "   Year  Month           State           Primary Mode                Etiology  \\\n",
       "0  2016      1      New Jersey                   Food                     NaN   \n",
       "1  2018      9   Massachusetts       Person-to-person               Norovirus   \n",
       "2  2023      1       Minnesota                   Food  Norovirus Genogroup IX   \n",
       "3  2023      1   Massachusetts  Indeterminate/unknown               Norovirus   \n",
       "4  2023      1  North Carolina       Person-to-person       Norovirus unknown   \n",
       "\n",
       "  Serotype or Genotype Etiology Status  \\\n",
       "0                  NaN             NaN   \n",
       "1                  NaN       Suspected   \n",
       "2        GII.P15 GIX.1       Confirmed   \n",
       "3                  NaN       Suspected   \n",
       "4                  NaN       Confirmed   \n",
       "\n",
       "                                             Setting  Illnesses  \\\n",
       "0                                                NaN         47   \n",
       "1                                              Other         41   \n",
       "2                        Restaurant: Sit-down dining         23   \n",
       "3  Long-term care/nursing home/assisted living fa...          7   \n",
       "4  Long-term care/nursing home/assisted living fa...         23   \n",
       "\n",
       "   Hospitalizations  Info On Hospitalizations  Deaths  Info On Deaths  \\\n",
       "0               0.0                      47.0     0.0            47.0   \n",
       "1               0.0                      41.0     0.0            41.0   \n",
       "2               0.0                      23.0     0.0            23.0   \n",
       "3               0.0                       0.0     0.0             0.0   \n",
       "4               1.0                      23.0     0.0            23.0   \n",
       "\n",
       "  Food Vehicle Food Contaminated Ingredient IFSAC Category Water Exposure  \\\n",
       "0          NaN                          NaN            NaN            NaN   \n",
       "1          NaN                          NaN            NaN            NaN   \n",
       "2          NaN                          NaN            NaN            NaN   \n",
       "3          NaN                          NaN            NaN            NaN   \n",
       "4          NaN                          NaN            NaN            NaN   \n",
       "\n",
       "  Water Type Animal Type  \n",
       "0        NaN         NaN  \n",
       "1        NaN         NaN  \n",
       "2        NaN         NaN  \n",
       "3        NaN         NaN  \n",
       "4        NaN         NaN  "
      ]
     },
     "execution_count": 129,
     "metadata": {},
     "output_type": "execute_result"
    }
   ],
   "source": [
    "df.head()"
   ]
  },
  {
   "cell_type": "markdown",
   "id": "16dd75ff-8830-472b-b659-44994707800f",
   "metadata": {},
   "source": [
    "### How many total outbreaks were reported? "
   ]
  },
  {
   "cell_type": "markdown",
   "id": "0dc9b811-bce6-4175-9a13-1b3eb877daed",
   "metadata": {},
   "source": [
    "### What is the average number of illnsses per outbreak ?"
   ]
  },
  {
   "cell_type": "markdown",
   "id": "8b83b23d-9ba8-4e26-bf8f-75fac0e14a7c",
   "metadata": {},
   "source": [
    "### What is the most common cause (etiology ) of outbreaks ?"
   ]
  },
  {
   "cell_type": "markdown",
   "id": "ab1a3bda-e988-4e52-9a43-07f6152a27ff",
   "metadata": {},
   "source": [
    "### Data Overview\n",
    "\n",
    "In this section, we take an initial look at the dataset containing reported disease outbreaks.  \n",
    "We'll do the following:\n",
    "- Display the first 5 rows of the dataset\n",
    "- Show the shape of the dat"
   ]
  },
  {
   "cell_type": "markdown",
   "id": "543cdff6-c7e7-45e9-a8ce-a8e5d6a42424",
   "metadata": {},
   "source": [
    "### Dataset Dimensions & Data Types\n",
    "\n",
    "- The dataset contains **66,713 rows** and **19 columns**.\n",
    "- Below is a quick overview of the data types:\n",
    "  - `int64`: Used for whole numbers like `Year`, `Month`, and `Illnesses`.\n",
    "  - `float64`: Used for numeric data that might include decimals (e.g., `Deaths`, `Hospitalizations`).\n",
    "  - `object`: Used for textual data (e.g., `State`, `Etiology`, `Animal Type`).\n",
    "\n",
    "This helps us understand how we can manipulate and analyze each column. For example:\n",
    "- Numerical columns can be used for aggregation (mean, sum).\n",
    "- Categorical/text columns are useful for grouping and filtering."
   ]
  },
  {
   "cell_type": "code",
   "execution_count": 130,
   "id": "58391b9a-0fff-4368-8fdd-227ce1485ac6",
   "metadata": {},
   "outputs": [
    {
     "data": {
      "text/plain": [
       "(66713, 19)"
      ]
     },
     "execution_count": 130,
     "metadata": {},
     "output_type": "execute_result"
    }
   ],
   "source": [
    "df.shape"
   ]
  },
  {
   "cell_type": "code",
   "execution_count": 131,
   "id": "f5feadb2-8854-49b3-99e5-0dfc7ccef6b8",
   "metadata": {
    "scrolled": true
   },
   "outputs": [
    {
     "data": {
      "text/plain": [
       "Year                              int64\n",
       "Month                             int64\n",
       "State                            object\n",
       "Primary Mode                     object\n",
       "Etiology                         object\n",
       "Serotype or Genotype             object\n",
       "Etiology Status                  object\n",
       "Setting                          object\n",
       "Illnesses                         int64\n",
       "Hospitalizations                float64\n",
       "Info On Hospitalizations        float64\n",
       "Deaths                          float64\n",
       "Info On Deaths                  float64\n",
       "Food Vehicle                     object\n",
       "Food Contaminated Ingredient     object\n",
       "IFSAC Category                   object\n",
       "Water Exposure                   object\n",
       "Water Type                       object\n",
       "Animal Type                      object\n",
       "dtype: object"
      ]
     },
     "execution_count": 131,
     "metadata": {},
     "output_type": "execute_result"
    }
   ],
   "source": [
    "df.dtypes"
   ]
  },
  {
   "cell_type": "code",
   "execution_count": 132,
   "id": "9ef49a83-6e1b-44ff-a851-1e0461339eb9",
   "metadata": {},
   "outputs": [
    {
     "data": {
      "text/plain": [
       "Year                                0\n",
       "Month                               0\n",
       "State                               0\n",
       "Primary Mode                        0\n",
       "Etiology                        16338\n",
       "Serotype or Genotype            50243\n",
       "Etiology Status                 16338\n",
       "Setting                          5909\n",
       "Illnesses                           0\n",
       "Hospitalizations                 8558\n",
       "Info On Hospitalizations         8233\n",
       "Deaths                           7928\n",
       "Info On Deaths                   8250\n",
       "Food Vehicle                    54267\n",
       "Food Contaminated Ingredient    63963\n",
       "IFSAC Category                  55008\n",
       "Water Exposure                  63607\n",
       "Water Type                      63983\n",
       "Animal Type                     66126\n",
       "dtype: int64"
      ]
     },
     "execution_count": 132,
     "metadata": {},
     "output_type": "execute_result"
    }
   ],
   "source": [
    "df.isnull().sum()"
   ]
  },
  {
   "cell_type": "code",
   "execution_count": 133,
   "id": "b593f6a7-57a0-421e-8088-3829196ba0f1",
   "metadata": {},
   "outputs": [
    {
     "data": {
      "text/plain": [
       "np.int64(1428)"
      ]
     },
     "execution_count": 133,
     "metadata": {},
     "output_type": "execute_result"
    }
   ],
   "source": [
    "df.duplicated().sum()"
   ]
  },
  {
   "cell_type": "code",
   "execution_count": 134,
   "id": "7970906f-60fa-44f8-b01f-8daca299be04",
   "metadata": {},
   "outputs": [
    {
     "data": {
      "text/plain": [
       "<bound method DataFrame.info of        Year  Month           State           Primary Mode  \\\n",
       "0      2016      1      New Jersey                   Food   \n",
       "1      2018      9   Massachusetts       Person-to-person   \n",
       "2      2023      1       Minnesota                   Food   \n",
       "3      2023      1   Massachusetts  Indeterminate/unknown   \n",
       "4      2023      1  North Carolina       Person-to-person   \n",
       "...     ...    ...             ...                    ...   \n",
       "66708  1971     11          Alaska                  Water   \n",
       "66709  1971     11        New York                  Water   \n",
       "66710  1971     11        Oklahoma                  Water   \n",
       "66711  1971     11           Texas                  Water   \n",
       "66712  1971     12      California                  Water   \n",
       "\n",
       "                     Etiology Serotype or Genotype Etiology Status  \\\n",
       "0                         NaN                  NaN             NaN   \n",
       "1                   Norovirus                  NaN       Suspected   \n",
       "2      Norovirus Genogroup IX        GII.P15 GIX.1       Confirmed   \n",
       "3                   Norovirus                  NaN       Suspected   \n",
       "4           Norovirus unknown                  NaN       Confirmed   \n",
       "...                       ...                  ...             ...   \n",
       "66708         Shigella sonnei                  NaN       Confirmed   \n",
       "66709                 Unknown                  NaN       Suspected   \n",
       "66710             Hepatitis A                  NaN       Confirmed   \n",
       "66711             Hepatitis A                  NaN       Confirmed   \n",
       "66712                 Unknown                  NaN       Suspected   \n",
       "\n",
       "                                                 Setting  Illnesses  \\\n",
       "0                                                    NaN         47   \n",
       "1                                                  Other         41   \n",
       "2                            Restaurant: Sit-down dining         23   \n",
       "3      Long-term care/nursing home/assisted living fa...          7   \n",
       "4      Long-term care/nursing home/assisted living fa...         23   \n",
       "...                                                  ...        ...   \n",
       "66708                           Mobile home/trailer park         89   \n",
       "66709                                         Restaurant        750   \n",
       "66710                             Community/municipality         50   \n",
       "66711                    Farm/dairy/agricultural setting          3   \n",
       "66712                                        Hotel/motel         84   \n",
       "\n",
       "       Hospitalizations  Info On Hospitalizations  Deaths  Info On Deaths  \\\n",
       "0                   0.0                      47.0     0.0            47.0   \n",
       "1                   0.0                      41.0     0.0            41.0   \n",
       "2                   0.0                      23.0     0.0            23.0   \n",
       "3                   0.0                       0.0     0.0             0.0   \n",
       "4                   1.0                      23.0     0.0            23.0   \n",
       "...                 ...                       ...     ...             ...   \n",
       "66708               NaN                       NaN     0.0             NaN   \n",
       "66709               NaN                       NaN     0.0             NaN   \n",
       "66710               NaN                       NaN     0.0             NaN   \n",
       "66711               NaN                       NaN     0.0             NaN   \n",
       "66712               NaN                       NaN     0.0             NaN   \n",
       "\n",
       "      Food Vehicle Food Contaminated Ingredient IFSAC Category  \\\n",
       "0              NaN                          NaN            NaN   \n",
       "1              NaN                          NaN            NaN   \n",
       "2              NaN                          NaN            NaN   \n",
       "3              NaN                          NaN            NaN   \n",
       "4              NaN                          NaN            NaN   \n",
       "...            ...                          ...            ...   \n",
       "66708          NaN                          NaN            NaN   \n",
       "66709          NaN                          NaN            NaN   \n",
       "66710          NaN                          NaN            NaN   \n",
       "66711          NaN                          NaN            NaN   \n",
       "66712          NaN                          NaN            NaN   \n",
       "\n",
       "       Water Exposure          Water Type Animal Type  \n",
       "0                 NaN                 NaN         NaN  \n",
       "1                 NaN                 NaN         NaN  \n",
       "2                 NaN                 NaN         NaN  \n",
       "3                 NaN                 NaN         NaN  \n",
       "4                 NaN                 NaN         NaN  \n",
       "...               ...                 ...         ...  \n",
       "66708  Drinking water           Community         NaN  \n",
       "66709  Drinking water               Other         NaN  \n",
       "66710  Drinking water           Community         NaN  \n",
       "66711  Drinking water  Individual/Private         NaN  \n",
       "66712  Drinking water               Other         NaN  \n",
       "\n",
       "[66713 rows x 19 columns]>"
      ]
     },
     "execution_count": 134,
     "metadata": {},
     "output_type": "execute_result"
    }
   ],
   "source": [
    "df.info"
   ]
  },
  {
   "cell_type": "markdown",
   "id": "6ad880d4-ac69-4a45-8642-572159b9b851",
   "metadata": {},
   "source": [
    "### Missing Values Summary\n",
    "\n",
    "Several columns contain missing values:\n",
    "- Columns like `Etiology`, `Serotype or Genotype`, and `Food Vehicle` have a significant number of missing entries.\n",
    "- Other columns such as `Hospitalizations`, `Deaths`, and `Info On Hospitalizations` have partial missing data.\n",
    "\n",
    "We will handle missing data case-by-case, depending on the analysis needs. Some may be dropped, others might be imputed or left as-is if not critical.\n"
   ]
  },
  {
   "cell_type": "code",
   "execution_count": 135,
   "id": "7e8c286c-c807-47a4-b28b-22f18d91c2bd",
   "metadata": {},
   "outputs": [],
   "source": [
    "df.drop_duplicates(inplace=True)"
   ]
  },
  {
   "cell_type": "code",
   "execution_count": 136,
   "id": "f09ab106-5cad-4fc7-b947-69b12e30d698",
   "metadata": {},
   "outputs": [],
   "source": [
    "df.drop(columns=[\n",
    "    'Serotype or Genotype',\n",
    "    'Food Contaminated Ingredient',\n",
    "    'Water Exposure',\n",
    "    'Water Type',\n",
    "    'Animal Type'\n",
    "], inplace=True)"
   ]
  },
  {
   "cell_type": "code",
   "execution_count": 137,
   "id": "e0d9cf28-573e-4b28-b150-0ec9acc6b846",
   "metadata": {},
   "outputs": [
    {
     "data": {
      "text/html": [
       "<div>\n",
       "<style scoped>\n",
       "    .dataframe tbody tr th:only-of-type {\n",
       "        vertical-align: middle;\n",
       "    }\n",
       "\n",
       "    .dataframe tbody tr th {\n",
       "        vertical-align: top;\n",
       "    }\n",
       "\n",
       "    .dataframe thead th {\n",
       "        text-align: right;\n",
       "    }\n",
       "</style>\n",
       "<table border=\"1\" class=\"dataframe\">\n",
       "  <thead>\n",
       "    <tr style=\"text-align: right;\">\n",
       "      <th></th>\n",
       "      <th>Year</th>\n",
       "      <th>Month</th>\n",
       "      <th>State</th>\n",
       "      <th>Primary Mode</th>\n",
       "      <th>Etiology</th>\n",
       "      <th>Etiology Status</th>\n",
       "      <th>Setting</th>\n",
       "      <th>Illnesses</th>\n",
       "      <th>Hospitalizations</th>\n",
       "      <th>Info On Hospitalizations</th>\n",
       "      <th>Deaths</th>\n",
       "      <th>Info On Deaths</th>\n",
       "      <th>Food Vehicle</th>\n",
       "      <th>IFSAC Category</th>\n",
       "    </tr>\n",
       "  </thead>\n",
       "  <tbody>\n",
       "    <tr>\n",
       "      <th>0</th>\n",
       "      <td>2016</td>\n",
       "      <td>1</td>\n",
       "      <td>New Jersey</td>\n",
       "      <td>Food</td>\n",
       "      <td>NaN</td>\n",
       "      <td>NaN</td>\n",
       "      <td>NaN</td>\n",
       "      <td>47</td>\n",
       "      <td>0.0</td>\n",
       "      <td>47.0</td>\n",
       "      <td>0.0</td>\n",
       "      <td>47.0</td>\n",
       "      <td>NaN</td>\n",
       "      <td>NaN</td>\n",
       "    </tr>\n",
       "    <tr>\n",
       "      <th>1</th>\n",
       "      <td>2018</td>\n",
       "      <td>9</td>\n",
       "      <td>Massachusetts</td>\n",
       "      <td>Person-to-person</td>\n",
       "      <td>Norovirus</td>\n",
       "      <td>Suspected</td>\n",
       "      <td>Other</td>\n",
       "      <td>41</td>\n",
       "      <td>0.0</td>\n",
       "      <td>41.0</td>\n",
       "      <td>0.0</td>\n",
       "      <td>41.0</td>\n",
       "      <td>NaN</td>\n",
       "      <td>NaN</td>\n",
       "    </tr>\n",
       "    <tr>\n",
       "      <th>2</th>\n",
       "      <td>2023</td>\n",
       "      <td>1</td>\n",
       "      <td>Minnesota</td>\n",
       "      <td>Food</td>\n",
       "      <td>Norovirus Genogroup IX</td>\n",
       "      <td>Confirmed</td>\n",
       "      <td>Restaurant: Sit-down dining</td>\n",
       "      <td>23</td>\n",
       "      <td>0.0</td>\n",
       "      <td>23.0</td>\n",
       "      <td>0.0</td>\n",
       "      <td>23.0</td>\n",
       "      <td>NaN</td>\n",
       "      <td>NaN</td>\n",
       "    </tr>\n",
       "    <tr>\n",
       "      <th>3</th>\n",
       "      <td>2023</td>\n",
       "      <td>1</td>\n",
       "      <td>Massachusetts</td>\n",
       "      <td>Indeterminate/unknown</td>\n",
       "      <td>Norovirus</td>\n",
       "      <td>Suspected</td>\n",
       "      <td>Long-term care/nursing home/assisted living fa...</td>\n",
       "      <td>7</td>\n",
       "      <td>0.0</td>\n",
       "      <td>0.0</td>\n",
       "      <td>0.0</td>\n",
       "      <td>0.0</td>\n",
       "      <td>NaN</td>\n",
       "      <td>NaN</td>\n",
       "    </tr>\n",
       "    <tr>\n",
       "      <th>4</th>\n",
       "      <td>2023</td>\n",
       "      <td>1</td>\n",
       "      <td>North Carolina</td>\n",
       "      <td>Person-to-person</td>\n",
       "      <td>Norovirus unknown</td>\n",
       "      <td>Confirmed</td>\n",
       "      <td>Long-term care/nursing home/assisted living fa...</td>\n",
       "      <td>23</td>\n",
       "      <td>1.0</td>\n",
       "      <td>23.0</td>\n",
       "      <td>0.0</td>\n",
       "      <td>23.0</td>\n",
       "      <td>NaN</td>\n",
       "      <td>NaN</td>\n",
       "    </tr>\n",
       "    <tr>\n",
       "      <th>...</th>\n",
       "      <td>...</td>\n",
       "      <td>...</td>\n",
       "      <td>...</td>\n",
       "      <td>...</td>\n",
       "      <td>...</td>\n",
       "      <td>...</td>\n",
       "      <td>...</td>\n",
       "      <td>...</td>\n",
       "      <td>...</td>\n",
       "      <td>...</td>\n",
       "      <td>...</td>\n",
       "      <td>...</td>\n",
       "      <td>...</td>\n",
       "      <td>...</td>\n",
       "    </tr>\n",
       "    <tr>\n",
       "      <th>66708</th>\n",
       "      <td>1971</td>\n",
       "      <td>11</td>\n",
       "      <td>Alaska</td>\n",
       "      <td>Water</td>\n",
       "      <td>Shigella sonnei</td>\n",
       "      <td>Confirmed</td>\n",
       "      <td>Mobile home/trailer park</td>\n",
       "      <td>89</td>\n",
       "      <td>NaN</td>\n",
       "      <td>NaN</td>\n",
       "      <td>0.0</td>\n",
       "      <td>NaN</td>\n",
       "      <td>NaN</td>\n",
       "      <td>NaN</td>\n",
       "    </tr>\n",
       "    <tr>\n",
       "      <th>66709</th>\n",
       "      <td>1971</td>\n",
       "      <td>11</td>\n",
       "      <td>New York</td>\n",
       "      <td>Water</td>\n",
       "      <td>Unknown</td>\n",
       "      <td>Suspected</td>\n",
       "      <td>Restaurant</td>\n",
       "      <td>750</td>\n",
       "      <td>NaN</td>\n",
       "      <td>NaN</td>\n",
       "      <td>0.0</td>\n",
       "      <td>NaN</td>\n",
       "      <td>NaN</td>\n",
       "      <td>NaN</td>\n",
       "    </tr>\n",
       "    <tr>\n",
       "      <th>66710</th>\n",
       "      <td>1971</td>\n",
       "      <td>11</td>\n",
       "      <td>Oklahoma</td>\n",
       "      <td>Water</td>\n",
       "      <td>Hepatitis A</td>\n",
       "      <td>Confirmed</td>\n",
       "      <td>Community/municipality</td>\n",
       "      <td>50</td>\n",
       "      <td>NaN</td>\n",
       "      <td>NaN</td>\n",
       "      <td>0.0</td>\n",
       "      <td>NaN</td>\n",
       "      <td>NaN</td>\n",
       "      <td>NaN</td>\n",
       "    </tr>\n",
       "    <tr>\n",
       "      <th>66711</th>\n",
       "      <td>1971</td>\n",
       "      <td>11</td>\n",
       "      <td>Texas</td>\n",
       "      <td>Water</td>\n",
       "      <td>Hepatitis A</td>\n",
       "      <td>Confirmed</td>\n",
       "      <td>Farm/dairy/agricultural setting</td>\n",
       "      <td>3</td>\n",
       "      <td>NaN</td>\n",
       "      <td>NaN</td>\n",
       "      <td>0.0</td>\n",
       "      <td>NaN</td>\n",
       "      <td>NaN</td>\n",
       "      <td>NaN</td>\n",
       "    </tr>\n",
       "    <tr>\n",
       "      <th>66712</th>\n",
       "      <td>1971</td>\n",
       "      <td>12</td>\n",
       "      <td>California</td>\n",
       "      <td>Water</td>\n",
       "      <td>Unknown</td>\n",
       "      <td>Suspected</td>\n",
       "      <td>Hotel/motel</td>\n",
       "      <td>84</td>\n",
       "      <td>NaN</td>\n",
       "      <td>NaN</td>\n",
       "      <td>0.0</td>\n",
       "      <td>NaN</td>\n",
       "      <td>NaN</td>\n",
       "      <td>NaN</td>\n",
       "    </tr>\n",
       "  </tbody>\n",
       "</table>\n",
       "<p>65285 rows × 14 columns</p>\n",
       "</div>"
      ],
      "text/plain": [
       "       Year  Month           State           Primary Mode  \\\n",
       "0      2016      1      New Jersey                   Food   \n",
       "1      2018      9   Massachusetts       Person-to-person   \n",
       "2      2023      1       Minnesota                   Food   \n",
       "3      2023      1   Massachusetts  Indeterminate/unknown   \n",
       "4      2023      1  North Carolina       Person-to-person   \n",
       "...     ...    ...             ...                    ...   \n",
       "66708  1971     11          Alaska                  Water   \n",
       "66709  1971     11        New York                  Water   \n",
       "66710  1971     11        Oklahoma                  Water   \n",
       "66711  1971     11           Texas                  Water   \n",
       "66712  1971     12      California                  Water   \n",
       "\n",
       "                     Etiology Etiology Status  \\\n",
       "0                         NaN             NaN   \n",
       "1                   Norovirus       Suspected   \n",
       "2      Norovirus Genogroup IX       Confirmed   \n",
       "3                   Norovirus       Suspected   \n",
       "4           Norovirus unknown       Confirmed   \n",
       "...                       ...             ...   \n",
       "66708         Shigella sonnei       Confirmed   \n",
       "66709                 Unknown       Suspected   \n",
       "66710             Hepatitis A       Confirmed   \n",
       "66711             Hepatitis A       Confirmed   \n",
       "66712                 Unknown       Suspected   \n",
       "\n",
       "                                                 Setting  Illnesses  \\\n",
       "0                                                    NaN         47   \n",
       "1                                                  Other         41   \n",
       "2                            Restaurant: Sit-down dining         23   \n",
       "3      Long-term care/nursing home/assisted living fa...          7   \n",
       "4      Long-term care/nursing home/assisted living fa...         23   \n",
       "...                                                  ...        ...   \n",
       "66708                           Mobile home/trailer park         89   \n",
       "66709                                         Restaurant        750   \n",
       "66710                             Community/municipality         50   \n",
       "66711                    Farm/dairy/agricultural setting          3   \n",
       "66712                                        Hotel/motel         84   \n",
       "\n",
       "       Hospitalizations  Info On Hospitalizations  Deaths  Info On Deaths  \\\n",
       "0                   0.0                      47.0     0.0            47.0   \n",
       "1                   0.0                      41.0     0.0            41.0   \n",
       "2                   0.0                      23.0     0.0            23.0   \n",
       "3                   0.0                       0.0     0.0             0.0   \n",
       "4                   1.0                      23.0     0.0            23.0   \n",
       "...                 ...                       ...     ...             ...   \n",
       "66708               NaN                       NaN     0.0             NaN   \n",
       "66709               NaN                       NaN     0.0             NaN   \n",
       "66710               NaN                       NaN     0.0             NaN   \n",
       "66711               NaN                       NaN     0.0             NaN   \n",
       "66712               NaN                       NaN     0.0             NaN   \n",
       "\n",
       "      Food Vehicle IFSAC Category  \n",
       "0              NaN            NaN  \n",
       "1              NaN            NaN  \n",
       "2              NaN            NaN  \n",
       "3              NaN            NaN  \n",
       "4              NaN            NaN  \n",
       "...            ...            ...  \n",
       "66708          NaN            NaN  \n",
       "66709          NaN            NaN  \n",
       "66710          NaN            NaN  \n",
       "66711          NaN            NaN  \n",
       "66712          NaN            NaN  \n",
       "\n",
       "[65285 rows x 14 columns]"
      ]
     },
     "execution_count": 137,
     "metadata": {},
     "output_type": "execute_result"
    }
   ],
   "source": [
    "df"
   ]
  },
  {
   "cell_type": "markdown",
   "id": "a36ebdad-5c1f-45e2-a078-825c76cfebfa",
   "metadata": {},
   "source": [
    "### Dropping Columns with High Missing Values\n",
    "\n",
    "We dropped the following columns due to their high percentage of missing data (mostly above 80%):\n",
    "\n",
    "- Serotype or Genotype\n",
    "- Food Contaminated Ingredient\n",
    "- Water Exposure\n",
    "- Water Type\n",
    "- Animal Type\n",
    "\n",
    "These columns are not essential for our current analysis and could negatively affect our results."
   ]
  },
  {
   "cell_type": "code",
   "execution_count": 138,
   "id": "f7f3f8e1-205a-441c-b566-f55c4710b6b6",
   "metadata": {},
   "outputs": [
    {
     "data": {
      "text/plain": [
       "(65285, 14)"
      ]
     },
     "execution_count": 138,
     "metadata": {},
     "output_type": "execute_result"
    }
   ],
   "source": [
    "df.shape"
   ]
  },
  {
   "cell_type": "code",
   "execution_count": 139,
   "id": "02bc0c64-4945-4a54-ab35-675e5444ee30",
   "metadata": {},
   "outputs": [
    {
     "data": {
      "text/plain": [
       "Index(['Year', 'Month', 'State', 'Primary Mode', 'Etiology', 'Etiology Status',\n",
       "       'Setting', 'Illnesses', 'Hospitalizations', 'Info On Hospitalizations',\n",
       "       'Deaths', 'Info On Deaths', 'Food Vehicle', 'IFSAC Category'],\n",
       "      dtype='object')"
      ]
     },
     "execution_count": 139,
     "metadata": {},
     "output_type": "execute_result"
    }
   ],
   "source": [
    "df.columns"
   ]
  },
  {
   "cell_type": "code",
   "execution_count": 140,
   "id": "b8711b92-31e7-461f-946c-1e29ba6c7955",
   "metadata": {},
   "outputs": [
    {
     "data": {
      "text/plain": [
       "Year                            0\n",
       "Month                           0\n",
       "State                           0\n",
       "Primary Mode                    0\n",
       "Etiology                    15850\n",
       "Etiology Status             15850\n",
       "Setting                      5525\n",
       "Illnesses                       0\n",
       "Hospitalizations             8163\n",
       "Info On Hospitalizations     7862\n",
       "Deaths                       7531\n",
       "Info On Deaths               7880\n",
       "Food Vehicle                52864\n",
       "IFSAC Category              53604\n",
       "dtype: int64"
      ]
     },
     "execution_count": 140,
     "metadata": {},
     "output_type": "execute_result"
    }
   ],
   "source": [
    "df.isnull().sum()"
   ]
  },
  {
   "cell_type": "markdown",
   "id": "d0c5cabb-88ac-4be3-a1c2-f0fa42c3c749",
   "metadata": {},
   "source": [
    "### How many total outbreaks were reported?"
   ]
  },
  {
   "cell_type": "code",
   "execution_count": 141,
   "id": "a4c88837-e1d5-4a9d-a4c9-f544c787fbb8",
   "metadata": {},
   "outputs": [
    {
     "data": {
      "text/plain": [
       "65285"
      ]
     },
     "execution_count": 141,
     "metadata": {},
     "output_type": "execute_result"
    }
   ],
   "source": [
    "total_outbreaks = len(df)\n",
    "total_outbreaks"
   ]
  },
  {
   "cell_type": "markdown",
   "id": "18a4dc35-f812-464d-8cb4-2aa0ea9f412e",
   "metadata": {},
   "source": [
    "### Total Number of Outbreaks Reported\n",
    "\n",
    "We have a total of **65,285 outbreaks** recorded in the dataset. Each row represents one reported outbreak.\n"
   ]
  },
  {
   "cell_type": "markdown",
   "id": "c181babe-820d-4b05-837c-8949f9c5613c",
   "metadata": {},
   "source": [
    "### What is the average number of illnesses per outbreak?"
   ]
  },
  {
   "cell_type": "markdown",
   "id": "4d4d7c4c-da50-4af4-8878-1a60db621207",
   "metadata": {},
   "source": [
    "## 📌 Average Number of Illnesses Per Outbreak\n",
    "\n",
    "The average number of illnesses per outbreak is approximately **[put number here]**.  \n",
    "This value is calculated by taking the mean of the *Illnesses* column across all reported outbreaks."
   ]
  },
  {
   "cell_type": "markdown",
   "id": "a5b9222d-a474-4baf-a29e-a6675b0a12fd",
   "metadata": {},
   "source": [
    "The average number of illnesses per outbreak is approximately **33.65**.  \n",
    "This value was calculated by taking the mean of the *Illnesses* column across all 65,285 reported outbreaks."
   ]
  },
  {
   "cell_type": "code",
   "execution_count": 142,
   "id": "96a8159c-a833-408f-9351-436de372aa0d",
   "metadata": {},
   "outputs": [
    {
     "data": {
      "text/plain": [
       "np.float64(33.64774450486329)"
      ]
     },
     "execution_count": 142,
     "metadata": {},
     "output_type": "execute_result"
    }
   ],
   "source": [
    "avg_illnesses = df[\"Illnesses\"].mean()\n",
    "avg_illnesses"
   ]
  },
  {
   "cell_type": "markdown",
   "id": "20be4745-f31c-4552-be54-c6a0a7f14fec",
   "metadata": {},
   "source": [
    "### What is the most common cause (etiology ) of outbreaks ?"
   ]
  },
  {
   "cell_type": "markdown",
   "id": "c2cc54d3-d394-4e44-a02a-7205edf22483",
   "metadata": {},
   "source": [
    "## Most Common Cause (Etiology) of Outbreaks\n",
    "\n",
    "The most common cause of reported outbreaks is **Norovirus Genogroup II**,  \n",
    "which was responsible for **9,141** outbreaks.\n",
    "\n",
    "This virus is known for spreading quickly in group settings like schools, hospitals, and cruise ships, often through contaminated food or surfaces."
   ]
  },
  {
   "cell_type": "code",
   "execution_count": 143,
   "id": "0bdbdd5f-8e8f-41c7-ab48-fa0f2c8ffc98",
   "metadata": {},
   "outputs": [
    {
     "data": {
      "text/plain": [
       "('Norovirus Genogroup II', 9141)"
      ]
     },
     "execution_count": 143,
     "metadata": {},
     "output_type": "execute_result"
    }
   ],
   "source": [
    "most_common_cause = df[\"Etiology\"].value_counts().idxmax()\n",
    "count_most_common = df[\"Etiology\"].value_counts().max()\n",
    "\n",
    "most_common_cause, count_most_common"
   ]
  },
  {
   "cell_type": "markdown",
   "id": "08456a38-919a-40cd-a32c-c3042d99c0ac",
   "metadata": {},
   "source": [
    "### What is the most common cause (etiology ) of outbreaks ?"
   ]
  },
  {
   "cell_type": "code",
   "execution_count": 145,
   "id": "ec42c469-f5e9-4ecc-af39-6b9529a52db8",
   "metadata": {},
   "outputs": [
    {
     "data": {
      "text/plain": [
       "Index([], dtype='object')"
      ]
     },
     "execution_count": 145,
     "metadata": {},
     "output_type": "execute_result"
    }
   ],
   "source": [
    "df.columns[df.columns.duplicated()]"
   ]
  },
  {
   "cell_type": "code",
   "execution_count": 118,
   "id": "fcf5c3bf-1474-4c6d-82d6-838332d09cf9",
   "metadata": {},
   "outputs": [
    {
     "data": {
      "text/plain": [
       "Index(['Year', 'Month', 'State', 'Primary Mode', 'Etiology', 'Etiology Status',\n",
       "       'Setting', 'Illnesses', 'Hospitalizations', 'Info On Hospitalizations',\n",
       "       'Deaths', 'Info On Deaths', 'Food Vehicle', 'IFSAC Category'],\n",
       "      dtype='object')"
      ]
     },
     "execution_count": 118,
     "metadata": {},
     "output_type": "execute_result"
    }
   ],
   "source": [
    "df.columns"
   ]
  },
  {
   "cell_type": "code",
   "execution_count": 119,
   "id": "2206fe36-7579-46ee-be93-62e4591ec68b",
   "metadata": {},
   "outputs": [
    {
     "data": {
      "text/plain": [
       "Etiology\n",
       "Norovirus Genogroup II                     9141\n",
       "Norovirus                                  9090\n",
       "Norovirus unknown                          8530\n",
       "Salmonella enterica                        4121\n",
       "Norovirus Genogroup I                      4091\n",
       "Escherichia coli, Shiga toxin-producing    1217\n",
       "Shigella sonnei                            1160\n",
       "Clostridium perfringens                     926\n",
       "Legionella pneumophila                      762\n",
       "Staphylococcus aureus                       626\n",
       "Name: count, dtype: int64"
      ]
     },
     "execution_count": 119,
     "metadata": {},
     "output_type": "execute_result"
    }
   ],
   "source": [
    "df['Etiology'].value_counts().head(10)"
   ]
  },
  {
   "cell_type": "code",
   "execution_count": 120,
   "id": "c6a0fdd6-66a1-4575-b9eb-935bc3db8d92",
   "metadata": {
    "scrolled": true
   },
   "outputs": [
    {
     "data": {
      "image/png": "[encoded data removed]",
      "text/plain": [
       "<Figure size 1200x600 with 1 Axes>"
      ]
     },
     "metadata": {},
     "output_type": "display_data"
    }
   ],
   "source": [
    "import matplotlib.pyplot as plt\n",
    "\n",
    "top_causes = df['Etiology'].value_counts().head(10)\n",
    "\n",
    "plt.figure(figsize=(12, 6))\n",
    "top_causes.plot(kind='bar', color='skyblue', edgecolor='black')\n",
    "plt.title('Top 10 Etiologies of Reported Outbreaks')\n",
    "plt.xlabel('Etiology')\n",
    "plt.ylabel('Number of Outbreaks')\n",
    "plt.xticks(rotation=45, ha='right')\n",
    "plt.grid(axis='y', linestyle='--', alpha=0.7)\n",
    "plt.tight_layout()\n",
    "plt.show()"
   ]
  },
  {
   "cell_type": "code",
   "execution_count": null,
   "id": "1c435dae-3e16-417b-bb83-444bef0108d9",
   "metadata": {},
   "outputs": [],
   "source": [
    "### answer 1 "
   ]
  },
  {
   "cell_type": "markdown",
   "id": "5fea1552-f54b-49f8-9cac-8d710f289d3d",
   "metadata": {},
   "source": [
    "Are person-to-person outbreaks more likely to be viral or bacterial?\n",
    " أنواع الأمراض الشائعة"
   ]
  },
  {
   "cell_type": "code",
   "execution_count": 124,
   "id": "dc1ca525-bbf3-45f5-9d13-e5e97f532aac",
   "metadata": {},
   "outputs": [],
   "source": [
    "# نفلتر التفشيات اللي طريق انتقالها person-to-person\n",
    "person_to_person_df = df[df['Primary Mode'] == 'Person-to-Person']"
   ]
  },
  {
   "cell_type": "code",
   "execution_count": 125,
   "id": "f90e8f91-6fdd-4316-8d76-6bde59d0a38e",
   "metadata": {},
   "outputs": [
    {
     "data": {
      "text/plain": [
       "Series([], Name: count, dtype: int64)"
      ]
     },
     "execution_count": 125,
     "metadata": {},
     "output_type": "execute_result"
    }
   ],
   "source": [
    "# نضيف عمود جديد يسمّي نوع المرض: viral أو bacterial أو other\n",
    "def classify_pathogen(etiology):\n",
    "    if etiology in viral:\n",
    "        return 'Viral'\n",
    "    elif etiology in bacterial:\n",
    "        return 'Bacterial'\n",
    "    else:\n",
    "        return 'Other'\n",
    "\n",
    "person_to_person_df['Type'] = person_to_person_df['Etiology'].apply(classify_pathogen)\n",
    "\n",
    "# نعد كل نوع\n",
    "person_to_person_df['Type'].value_counts()"
   ]
  },
  {
   "cell_type": "code",
   "execution_count": 126,
   "id": "ef330bd4-96e1-4b08-a0b6-364ada176c94",
   "metadata": {},
   "outputs": [
    {
     "data": {
      "text/plain": [
       "array([], dtype=object)"
      ]
     },
     "execution_count": 126,
     "metadata": {},
     "output_type": "execute_result"
    }
   ],
   "source": [
    "person_to_person_df['Etiology'].unique()"
   ]
  },
  {
   "cell_type": "code",
   "execution_count": null,
   "id": "c57dc7d2-bb51-48c2-825e-f50cfe78ad39",
   "metadata": {},
   "outputs": [],
   "source": []
  }
 ],
 "metadata": {
  "kernelspec": {
   "display_name": "Python 3 (ipykernel)",
   "language": "python",
   "name": "python3"
  },
  "language_info": {
   "codemirror_mode": {
    "name": "ipython",
    "version": 3
   },
   "file_extension": ".py",
   "mimetype": "text/x-python",
   "name": "python",
   "nbconvert_exporter": "python",
   "pygments_lexer": "ipython3",
   "version": "3.13.5"
  }
 },
 "nbformat": 4,
 "nbformat_minor": 5
}
