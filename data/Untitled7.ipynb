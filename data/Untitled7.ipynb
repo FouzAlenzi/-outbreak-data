{
 "cells": [
  {
   "cell_type": "code",
   "execution_count": null,
   "id": "0a384220-440e-4a48-96df-65ed7689566c",
   "metadata": {},
   "outputs": [],
   "source": [
    "import pandas as pd"
   ]
  },
  {
   "cell_type": "code",
   "execution_count": null,
   "id": "a1cc8484-a2cb-432b-9b5d-3d93edb75e04",
   "metadata": {},
   "outputs": [],
   "source": [
    "!pip install mataplot"
   ]
  },
  {
   "cell_type": "code",
   "execution_count": null,
   "id": "af8f32c3-9df3-4fb6-9809-64d91ce9275e",
   "metadata": {},
   "outputs": [],
   "source": [
    "\n"
   ]
  },
  {
   "cell_type": "code",
   "execution_count": null,
   "id": "53ea9103-f214-4a5b-965a-3c7a847b6238",
   "metadata": {},
   "outputs": [],
   "source": []
  }
 ],
 "metadata": {
  "kernelspec": {
   "display_name": "Python 3 (ipykernel)",
   "language": "python",
   "name": "python3"
  },
  "language_info": {
   "codemirror_mode": {
    "name": "ipython",
    "version": 3
   },
   "file_extension": ".py",
   "mimetype": "text/x-python",
   "name": "python",
   "nbconvert_exporter": "python",
   "pygments_lexer": "ipython3",
   "version": "3.13.5"
  }
 },
 "nbformat": 4,
 "nbformat_minor": 5
}
